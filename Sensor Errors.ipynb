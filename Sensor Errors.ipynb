{
 "cells": [
  {
   "cell_type": "code",
   "execution_count": 1,
   "metadata": {},
   "outputs": [],
   "source": [
    "import pandas as pd\n",
    "import matplotlib.pyplot as plt\n",
    "import seaborn as sns\n",
    "%matplotlib inline\n",
    "sns.set(style=\"darkgrid\")"
   ]
  },
  {
   "cell_type": "code",
   "execution_count": 2,
   "metadata": {},
   "outputs": [
    {
     "name": "stdout",
     "output_type": "stream",
     "text": [
      "['Entries', 'Power', 'Power', 'Power', 'Inaccessable', 'Wifi', 'Power', 'Power', 'Power', 'Power', 'Power', 'Power', 'Power', 'Power', 'Power', 'Power', 'Wifi', 'Wifi', 'Wifi', 'Wifi', 'Wifi', 'External', 'External', 'Wifi', 'Power', 'External', 'Wifi', 'Unmounted', 'Power', 'Internal', 'Unmounted', 'Wifi', 'Power', 'Power', 'Wifi', 'Wifi', 'Wifi', 'Power', 'Wifi', 'Wifi', 'Wifi', 'Power', 'Power', 'Power', 'Wifi', 'Power', 'Wifi', 'Wifi', 'Other', 'Other', 'Other', 'Wifi', 'Power', 'Other', 'Other', 'Wifi', 'Power', 'Wifi', 'Power', 'Power', 'External', 'Power', 'Wifi', 'Wifi', 'Wifi', 'Wifi', 'External', 'Wifi', 'Wifi', 'Code', 'Wifi', 'Wifi', 'Code', 'Wifi', 'External', 'Code', 'Wifi', 'Wifi', 'Wifi', 'Power', 'Wifi', 'Power', 'Wifi', 'Wifi', 'Wifi', 'Power', 'Power', 'Power', 'Power', 'Power', 'External', 'Wifi', 'Power', 'Wifi', 'Power', 'Power', 'Power', 'Power', 'External', 'Power', 'Power', 'Power', 'Unmounted', 'Unmounted', 'Power', 'Power', 'Power', 'Wifi', 'External', 'Power', 'Wifi', 'Power', 'Power', 'External', 'Power', 'Power', 'Wifi', 'Wifi', 'Power', 'Power', 'External', 'Power', 'Water', 'Power', 'Internal', 'Inaccessable', 'Power', 'Wifi', 'Power', 'Wifi', 'Power', 'Power', 'Power', 'Wifi', 'Power', 'Power', 'External', 'Wifi', 'Power', 'Wifi', 'Wifi', 'External', 'Power', 'Wifi', 'Wifi', 'Wifi', 'Power', 'Power', 'Wifi', 'Wifi', 'Wifi', 'Internal', 'Wifi', 'Power', 'Power', 'Power', 'Wifi', 'Power', 'Power', 'Power', 'Power', 'External', 'Unmounted', 'Wifi', 'Wifi', 'Inaccessable', 'Inaccessable', 'Wifi', 'Wifi', 'Wifi', 'Power', 'Wifi', 'External', 'Power', 'Wifi', 'Power', 'Power', 'Wifi', 'External', 'Power', 'Wifi', 'Wifi', 'Power', 'Unmounted', 'Wifi']\n"
     ]
    }
   ],
   "source": [
    "import csv\n",
    "\n",
    "data = csv.reader(open('entries.csv'), delimiter=\",\", quotechar='|')\n",
    "column1, column2 = [], []\n",
    "\n",
    "for row in data:\n",
    "    column1.append(row[0])\n",
    "\n",
    "print (column1)\n"
   ]
  },
  {
   "cell_type": "code",
   "execution_count": 3,
   "metadata": {},
   "outputs": [
    {
     "name": "stdout",
     "output_type": "stream",
     "text": [
      "Power\n"
     ]
    }
   ],
   "source": [
    "print (column1[45])"
   ]
  },
  {
   "cell_type": "code",
   "execution_count": 4,
   "metadata": {},
   "outputs": [],
   "source": [
    "Power = 0;\n",
    "Wifi = 0;\n",
    "Internal = 0;\n",
    "External = 0;\n",
    "Water = 0;\n",
    "Other = 0;\n",
    "Code = 0;\n",
    "Unmounted = 0;\n",
    "Inaccessable = 0;\n"
   ]
  },
  {
   "cell_type": "code",
   "execution_count": 5,
   "metadata": {},
   "outputs": [],
   "source": [
    "\n",
    "for x in range (1, len(column1)):\n",
    "    if column1[x] == \"Power\":\n",
    "        Power += 1\n",
    "    if column1[x] == \"Wifi\":\n",
    "        Wifi += 1\n",
    "    if column1[x] == \"Internal\":\n",
    "        Internal += 1\n",
    "    if column1[x] == \"External\":\n",
    "        External += 1\n",
    "    if column1[x] == \"Water\":\n",
    "        Water += 1\n",
    "    if column1[x] == \"Other\":\n",
    "        Other += 1\n",
    "    if column1[x] == \"Code\":\n",
    "        Code += 1\n",
    "    if column1[x] == \"Unmounted\":\n",
    "        Unmounted += 1\n",
    "    if column1[x] == \"Inaccessable\":\n",
    "        Inaccessable += 1\n",
    "    x+=1\n",
    "    \n",
    "    \n"
   ]
  },
  {
   "cell_type": "code",
   "execution_count": 6,
   "metadata": {},
   "outputs": [
    {
     "name": "stdout",
     "output_type": "stream",
     "text": [
      "Power 78\n",
      "Wifi 68\n",
      "Internal 3\n",
      "External 16\n",
      "Water 1\n",
      "Other 5\n",
      "Code 3\n",
      "Unmounted 6\n",
      "Inaccessable 4\n"
     ]
    }
   ],
   "source": [
    "print('Power' , Power)\n",
    "print('Wifi' , Wifi)\n",
    "print('Internal' , Internal)\n",
    "print('External' , External)\n",
    "print('Water' , Water)\n",
    "print('Other' , Other)\n",
    "print('Code' , Code)\n",
    "print('Unmounted' , Unmounted)\n",
    "print('Inaccessable' , Inaccessable)"
   ]
  },
  {
   "cell_type": "code",
   "execution_count": 7,
   "metadata": {},
   "outputs": [],
   "source": [
    "labels = ['Power', 'Wifi', 'Int', 'Ext', 'Water', 'Other', 'Code', 'Mount', 'Access']\n",
    "errors = [Power, Wifi, Internal, External, Water, Other, Code, Unmounted, Inaccessable]"
   ]
  },
  {
   "cell_type": "code",
   "execution_count": 8,
   "metadata": {},
   "outputs": [
    {
     "data": {
      "image/png": "[encoded data removed]",
      "text/plain": [
       "<Figure size 432x288 with 1 Axes>"
      ]
     },
     "metadata": {},
     "output_type": "display_data"
    }
   ],
   "source": [
    "plt.bar(labels, errors, data = column1, color = \"green\",)\n",
    "plt.xlabel(\"Type\")\n",
    "plt.ylabel(\"Occurances\")\n",
    "plt.title(\"Recorded Failures From SONYC Nodes\")\n",
    "plt.show()"
   ]
  }
 ],
 "metadata": {
  "kernelspec": {
   "display_name": "Python 3",
   "language": "python",
   "name": "python3"
  },
  "language_info": {
   "codemirror_mode": {
    "name": "ipython",
    "version": 3
   },
   "file_extension": ".py",
   "mimetype": "text/x-python",
   "name": "python",
   "nbconvert_exporter": "python",
   "pygments_lexer": "ipython3",
   "version": "3.8.2"
  }
 },
 "nbformat": 4,
 "nbformat_minor": 4
}
